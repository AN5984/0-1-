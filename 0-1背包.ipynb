{
 "cells": [
  {
   "cell_type": "code",
   "execution_count": 21,
   "metadata": {},
   "outputs": [
    {
     "name": "stdout",
     "output_type": "stream",
     "text": [
      "选择的背包的重量是： 19\n",
      "背包的最大总价值为： 33\n",
      "选到的物品序号为： [3, 4, 5, 6, 7]\n"
     ]
    }
   ],
   "source": [
    "#暴力法 \n",
    "\n",
    "w=[6,5,4,1,2,3,9,8,7]\n",
    "v=[1,2,3,7,8,9,6,5,4]\n",
    "seq=[]  #记录选择的序列\n",
    "seq2=[]  #最终选择的序列\n",
    "c=20\n",
    "n=len(w)\n",
    "visit=[0 for i in range(n)]#是否访问过\n",
    "cw=0\n",
    "  \n",
    "maxv=0\n",
    "maxw=0\n",
    "#开始暴力解,w是现在的重量和价值\n",
    "def op1(w,v,visit,cw,c,seq):\n",
    "    for i in range(n):\n",
    "        if visit[i]==0 :\n",
    "            if cw + int(w[i]) >c:\n",
    "                continue;\n",
    "            visit[i] = 1;\n",
    "            seq.append(i);#将当前步加入到序列中\n",
    "            op1(w,v,visit,cw+w[i],c,seq);#基于当前状态深度遍历\n",
    "            seq.remove(i);#从序列中删除\n",
    "            visit[i] = 0;   \n",
    "    output(w,v,visit,cw,c,seq)\n",
    "    return;  \n",
    "def output(w,v,visit,cw,c,seq):   \n",
    "    sumv=0\n",
    "    global maxv,maxw,seq2   \n",
    "    for i in range(n):\n",
    "        if visit[i]:\n",
    "            sumv += v[i]\n",
    "    if maxv<sumv:\n",
    "        maxv=sumv\n",
    "        seq2=clone(seq)\n",
    "        maxw=cw\n",
    "def clone(li1):\n",
    "    li_copy = []\n",
    "    li_copy.extend(li1)\n",
    "    return li_copy\n",
    "op1(w,v,visit,cw,c,seq)\n",
    "print(\"选择的背包的重量是：\",maxw)  \n",
    "print(\"背包的最大总价值为：\",maxv)\n",
    "e=len(seq2)\n",
    "for j in range(e):\n",
    "    seq2[j]=seq2[j]+1\n",
    "print(\"选到的物品序号为：\",seq2)"
   ]
  },
  {
   "cell_type": "code",
   "execution_count": null,
   "metadata": {},
   "outputs": [],
   "source": [
    "#动态规划法    沿用上段的变量\n",
    "def bag(n,c,w,v):\n",
    "    val=[[0 for j in range(c+1)] for i in range(n+1)]\n",
    "    for i in range(1,n+1):\n",
    "        for j in range(1,c+1):\n",
    "            if (j<w[i-1]):\n",
    "                val[i][j]=val[i-1][j]\n",
    "            else :\n",
    "                val[i][j]=max(val[i-1][j],val[i-1][j-w[i-1]]+v[i-1])\n",
    "            for x in val:\n",
    "                print(x)\n",
    "    return val\n",
    "val=bag(n,c,w,v)        \n",
    "def op2(n,c,w,val):\n",
    "    print(\"背包的最大总价值为：\",val[n][c])\n",
    "    x=[0 for i in range(n)]\n",
    "    j=c\n",
    "    for i in range(n,0,-1):\n",
    "        if val[i][j]>val[i-1][j] :\n",
    "            x[i-1]=1\n",
    "            j-=w[i-1]\n",
    "    print(\"背包的物品序号为：\")\n",
    "    for i in range(n):\n",
    "        if x[i] :\n",
    "            print(\"第\",i+1,\"个\",end='  ')\n",
    "    return \n",
    "op2(n,c,w,val)\n",
    "   "
   ]
  },
  {
   "cell_type": "code",
   "execution_count": 20,
   "metadata": {},
   "outputs": [
    {
     "name": "stdout",
     "output_type": "stream",
     "text": [
      "背包此时重量为： 19\n",
      "背包的最大总价值为： 33\n",
      "选择到的序号为：（1代表选择到了，0代表没有） [0, 0, 1, 1, 1, 1, 1, 0, 0]\n"
     ]
    }
   ],
   "source": [
    "#优先队列分支限界法\n",
    "meanv=[]\n",
    "maxmeanv=0\n",
    "cv=0\n",
    "q=0\n",
    "visit=[0 for i in range(n)]\n",
    "for i in range(n):\n",
    "    x=v[i]/w[i]\n",
    "    meanv.append(x)  #计算单位重量的价值\n",
    "def maxchoose(n,meanv,maxmeanv,q):\n",
    "    global visit\n",
    "    for i in range(n): \n",
    "        if visit[i]==0 : #选择单位价值高的,并且没有选择过的  ,visit为1代表被选过 \n",
    "            if maxmeanv<meanv[i]:\n",
    "                maxmeanv=meanv[i]\n",
    "                q=i\n",
    "    return q\n",
    "def choose(n,c,w,cw,v,cv,meanv,maxmeanv,q):\n",
    "    global visit\n",
    "    for i in range(n):\n",
    "        q=maxchoose(n,meanv,maxmeanv,q)\n",
    "        if cw+w[q]>c :  #如果选择这个大于总重量的话就跳过\n",
    "            continue \n",
    "        visit[q]=1 \n",
    "        cw+=w[q]\n",
    "        cv+=v[q]\n",
    "    return cw,cv\n",
    "def op3(n,c,w,cw,v,cv,meanv,q):\n",
    "    global visit\n",
    "    for i in range(n):\n",
    "        cw,cv=choose(n,c,w,cw,v,cv,meanv,maxmeanv,q)  \n",
    "#从i到n选择，优先选择单位价值高的，如果选择过了或者加上选到的大于c就跳过直到选完\n",
    "    print(\"背包此时重量为：\",cw)    \n",
    "    print(\"背包的最大总价值为：\",cv)\n",
    "    print(\"选择到的序号为：（1代表选择到了，0代表没有）\",visit)\n",
    "op3(n,c,w,cw,v,cv,meanv,q) "
   ]
  },
  {
   "cell_type": "code",
   "execution_count": 19,
   "metadata": {},
   "outputs": [
    {
     "name": "stdout",
     "output_type": "stream",
     "text": [
      "背包此时重量为： 19\n",
      "背包的最大总价值为： 33\n",
      "选择到的序号为：（1代表选择到了，0代表没有） [0, 0, 1, 1, 1, 1, 1, 0, 0]\n"
     ]
    }
   ],
   "source": [
    "#回溯法  \n",
    "bestv = 0 # 最大价值\n",
    "bestw=0 #最大重量\n",
    "cw = 0 # 当前背包重量\n",
    "cv = 0 # 当前背包价值\n",
    "bestx = None # 最优解路径\n",
    "visit=[0 for i in range(n)]\n",
    "def backtrack(i):\n",
    "    global bestv,bestw,bestx,cv,cw,visit\n",
    "    if i>= n:\n",
    "        if bestv<cv:\n",
    "            bestv = cv\n",
    "            bestw=cw\n",
    "            bestx = visit[:]\n",
    "    else:\n",
    "        if cw+w[i]<=c:\n",
    "            visit[i]=1\n",
    "            cw += w[i]\n",
    "            cv += v[i]\n",
    "            backtrack(i+1)\n",
    "            cw -= w[i]\n",
    "            cv -= v[i]\n",
    "        visit[i]=0\n",
    "        backtrack(i+1)\n",
    "\n",
    "backtrack(0)\n",
    "print(\"背包此时重量为：\",bestw)\n",
    "print(\"背包的最大总价值为：\",bestv)\n",
    "print(\"选择到的序号为：（1代表选择到了，0代表没有）\",(bestx) )"
   ]
  },
  {
   "cell_type": "code",
   "execution_count": null,
   "metadata": {},
   "outputs": [],
   "source": []
  }
 ],
 "metadata": {
  "kernelspec": {
   "display_name": "Python 3",
   "language": "python",
   "name": "python3"
  },
  "language_info": {
   "codemirror_mode": {
    "name": "ipython",
    "version": 3
   },
   "file_extension": ".py",
   "mimetype": "text/x-python",
   "name": "python",
   "nbconvert_exporter": "python",
   "pygments_lexer": "ipython3",
   "version": "3.7.6"
  }
 },
 "nbformat": 4,
 "nbformat_minor": 4
}
